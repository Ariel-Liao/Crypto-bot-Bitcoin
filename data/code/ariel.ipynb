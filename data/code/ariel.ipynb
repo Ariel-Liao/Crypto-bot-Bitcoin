{
 "cells": [
  {
   "cell_type": "code",
   "execution_count": 39,
   "id": "df1e9aca",
   "metadata": {
    "scrolled": true
   },
   "outputs": [
    {
     "name": "stdout",
     "output_type": "stream",
     "text": [
      "Requirement already satisfied: pandas in /Users/ariel/miniconda3/lib/python3.8/site-packages (1.3.0)\n",
      "Requirement already satisfied: python-dateutil>=2.7.3 in /Users/ariel/miniconda3/lib/python3.8/site-packages (from pandas) (2.8.1)\n",
      "Requirement already satisfied: pytz>=2017.3 in /Users/ariel/miniconda3/lib/python3.8/site-packages (from pandas) (2021.1)\n",
      "Requirement already satisfied: numpy>=1.17.3 in /Users/ariel/miniconda3/lib/python3.8/site-packages (from pandas) (1.21.0)\n",
      "Requirement already satisfied: six>=1.5 in /Users/ariel/miniconda3/lib/python3.8/site-packages (from python-dateutil>=2.7.3->pandas) (1.15.0)\n",
      "Requirement already satisfied: ipynb in /Users/ariel/miniconda3/lib/python3.8/site-packages (0.5.1)\n",
      "Requirement already satisfied: sklearn in /Users/ariel/miniconda3/lib/python3.8/site-packages (0.0)\n",
      "Requirement already satisfied: scikit-learn in /Users/ariel/miniconda3/lib/python3.8/site-packages (from sklearn) (0.24.2)\n",
      "Requirement already satisfied: numpy>=1.13.3 in /Users/ariel/miniconda3/lib/python3.8/site-packages (from scikit-learn->sklearn) (1.21.0)\n",
      "Requirement already satisfied: joblib>=0.11 in /Users/ariel/miniconda3/lib/python3.8/site-packages (from scikit-learn->sklearn) (1.0.1)\n",
      "Requirement already satisfied: scipy>=0.19.1 in /Users/ariel/miniconda3/lib/python3.8/site-packages (from scikit-learn->sklearn) (1.7.0)\n",
      "Requirement already satisfied: threadpoolctl>=2.0.0 in /Users/ariel/miniconda3/lib/python3.8/site-packages (from scikit-learn->sklearn) (2.2.0)\n",
      "Requirement already satisfied: pyemma in /Users/ariel/miniconda3/lib/python3.8/site-packages (2.5.9)\n",
      "Requirement already satisfied: tqdm>=4.23 in /Users/ariel/miniconda3/lib/python3.8/site-packages (from pyemma) (4.51.0)\n",
      "Requirement already satisfied: deeptime in /Users/ariel/miniconda3/lib/python3.8/site-packages (from pyemma) (0.2.9)\n",
      "Requirement already satisfied: h5py>=2.7.1 in /Users/ariel/miniconda3/lib/python3.8/site-packages (from pyemma) (3.3.0)\n",
      "Requirement already satisfied: bhmm<0.7,>=0.6 in /Users/ariel/miniconda3/lib/python3.8/site-packages (from pyemma) (0.6.3)\n",
      "Requirement already satisfied: pyyaml in /Users/ariel/miniconda3/lib/python3.8/site-packages (from pyemma) (5.4.1)\n",
      "Requirement already satisfied: decorator>=4.0.0 in /Users/ariel/miniconda3/lib/python3.8/site-packages (from pyemma) (5.0.9)\n",
      "Requirement already satisfied: pathos in /Users/ariel/miniconda3/lib/python3.8/site-packages (from pyemma) (0.2.8)\n",
      "Requirement already satisfied: psutil>=3.1.1 in /Users/ariel/miniconda3/lib/python3.8/site-packages (from pyemma) (5.8.0)\n",
      "Requirement already satisfied: msmtools>=1.2 in /Users/ariel/miniconda3/lib/python3.8/site-packages (from pyemma) (1.2.6)\n",
      "Requirement already satisfied: mdtraj>=1.9.2 in /Users/ariel/miniconda3/lib/python3.8/site-packages (from pyemma) (1.9.6)\n",
      "Requirement already satisfied: scipy>=0.11 in /Users/ariel/miniconda3/lib/python3.8/site-packages (from pyemma) (1.7.0)\n",
      "Requirement already satisfied: numpy>=1.8.0 in /Users/ariel/miniconda3/lib/python3.8/site-packages (from pyemma) (1.21.0)\n",
      "Requirement already satisfied: matplotlib in /Users/ariel/miniconda3/lib/python3.8/site-packages (from pyemma) (3.4.2)\n",
      "Requirement already satisfied: threadpoolctl in /Users/ariel/miniconda3/lib/python3.8/site-packages (from deeptime->pyemma) (2.2.0)\n",
      "Requirement already satisfied: scikit-learn in /Users/ariel/miniconda3/lib/python3.8/site-packages (from deeptime->pyemma) (0.24.2)\n",
      "Requirement already satisfied: six in /Users/ariel/miniconda3/lib/python3.8/site-packages (from bhmm<0.7,>=0.6->pyemma) (1.15.0)\n",
      "Requirement already satisfied: multiprocess>=0.70.12 in /Users/ariel/miniconda3/lib/python3.8/site-packages (from pathos->pyemma) (0.70.12.2)\n",
      "Requirement already satisfied: dill>=0.3.4 in /Users/ariel/miniconda3/lib/python3.8/site-packages (from pathos->pyemma) (0.3.4)\n",
      "Requirement already satisfied: pox>=0.3.0 in /Users/ariel/miniconda3/lib/python3.8/site-packages (from pathos->pyemma) (0.3.0)\n",
      "Requirement already satisfied: ppft>=1.6.6.4 in /Users/ariel/miniconda3/lib/python3.8/site-packages (from pathos->pyemma) (1.6.6.4)\n",
      "Requirement already satisfied: pyparsing in /Users/ariel/miniconda3/lib/python3.8/site-packages (from mdtraj>=1.9.2->pyemma) (2.4.7)\n",
      "Requirement already satisfied: astunparse in /Users/ariel/miniconda3/lib/python3.8/site-packages (from mdtraj>=1.9.2->pyemma) (1.6.3)\n",
      "Requirement already satisfied: cycler>=0.10 in /Users/ariel/miniconda3/lib/python3.8/site-packages (from matplotlib->pyemma) (0.10.0)\n",
      "Requirement already satisfied: kiwisolver>=1.0.1 in /Users/ariel/miniconda3/lib/python3.8/site-packages (from matplotlib->pyemma) (1.3.1)\n",
      "Requirement already satisfied: pillow>=6.2.0 in /Users/ariel/miniconda3/lib/python3.8/site-packages (from matplotlib->pyemma) (8.3.1)\n",
      "Requirement already satisfied: python-dateutil>=2.7 in /Users/ariel/miniconda3/lib/python3.8/site-packages (from matplotlib->pyemma) (2.8.1)\n",
      "Requirement already satisfied: joblib>=0.11 in /Users/ariel/miniconda3/lib/python3.8/site-packages (from scikit-learn->deeptime->pyemma) (1.0.1)\n",
      "Requirement already satisfied: wheel<1.0,>=0.23.0 in /Users/ariel/miniconda3/lib/python3.8/site-packages (from astunparse->mdtraj>=1.9.2->pyemma) (0.35.1)\n",
      "Requirement already satisfied: hmmlearn in /Users/ariel/miniconda3/lib/python3.8/site-packages (0.2.6)\n",
      "Requirement already satisfied: scipy>=0.19 in /Users/ariel/miniconda3/lib/python3.8/site-packages (from hmmlearn) (1.7.0)\n",
      "Requirement already satisfied: numpy>=1.10 in /Users/ariel/miniconda3/lib/python3.8/site-packages (from hmmlearn) (1.21.0)\n",
      "Requirement already satisfied: scikit-learn>=0.16 in /Users/ariel/miniconda3/lib/python3.8/site-packages (from hmmlearn) (0.24.2)\n",
      "Requirement already satisfied: threadpoolctl>=2.0.0 in /Users/ariel/miniconda3/lib/python3.8/site-packages (from scikit-learn>=0.16->hmmlearn) (2.2.0)\n",
      "Requirement already satisfied: joblib>=0.11 in /Users/ariel/miniconda3/lib/python3.8/site-packages (from scikit-learn>=0.16->hmmlearn) (1.0.1)\n",
      "Requirement already satisfied: import-ipynb in /Users/ariel/miniconda3/lib/python3.8/site-packages (0.1.3)\n"
     ]
    }
   ],
   "source": [
    "!pip install pandas\n",
    "!pip install ipynb\n",
    "!pip install sklearn\n",
    "!pip install pyemma\n",
    "!pip install hmmlearn\n",
    "!pip install import-ipynb\n",
    "import import_ipynb\n",
    "import pandas as pd\n",
    "import random as rd\n",
    "import sys\n",
    "\n",
    "import ipynb.fs.full.kai_data_visualization as kai\n",
    "import ipynb.fs.full.adyang as andrew\n",
    "\n",
    "\n",
    "import matplotlib\n",
    "import matplotlib.dates as md\n",
    "from matplotlib import pyplot as plt\n",
    "\n",
    "from sklearn import preprocessing\n",
    "from sklearn.decomposition import PCA\n",
    "from sklearn.cluster import KMeans\n",
    "from sklearn.covariance import EllipticEnvelope\n",
    "from pyemma import msm\n",
    "from sklearn.ensemble import IsolationForest\n",
    "from sklearn.svm import OneClassSVM\n",
    "from hmmlearn import hmm\n",
    "import numpy as np\n",
    "\n",
    "from datetime import datetime\n",
    "\n",
    "np.random.seed(42)"
   ]
  },
  {
   "cell_type": "code",
   "execution_count": 40,
   "id": "c59645b2",
   "metadata": {},
   "outputs": [],
   "source": [
    "# code cleaning\n",
    "\n",
    "def cleanData(fileName = '../data/gemini_BTCUSD_2020_1min.csv', timeRangeInHour=1, valueUsed=\"open\"):\n",
    "    x_filename = '../data/gemini_BTCUSD_2021_1min.csv'\n",
    "    x_testFile = '../data/gemini_BTCUSD_2020_1min.csv'\n",
    "    # Read Data\n",
    "    df = pd.read_csv(x_filename, skiprows=[0], low_memory=False)\n",
    "    cdf = df.drop(columns=['Date', 'Symbol', 'Unix Timestamp'], axis=1)\n",
    "    return cdf"
   ]
  },
  {
   "cell_type": "code",
   "execution_count": 41,
   "id": "915efeff",
   "metadata": {},
   "outputs": [],
   "source": [
    "cleandf = cleanData()\n",
    "def random(bit_num, data, cleandf):\n",
    "#     print(cleandf)\n",
    "    open_col = cleandf[data]\n",
    "#     print(open_col)\n",
    "#     print(open_col[3])\n",
    "    num_choice = rd.randint(0, len(open_col))\n",
    "#     print(num_choice)\n",
    "    random_choice = rd.choices(open_col, k = num_choice)\n",
    "#     print(random_choice)\n",
    "    # buy in first\n",
    "    result = 0\n",
    "    for i in range(num_choice-1):\n",
    "        result += (bit_num*(random_choice[i+1]-random_choice[i]) )\n",
    "        i += 1\n",
    "\n",
    "#         print(result)\n",
    "    print(\"final result: \", result)\n",
    "    return result"
   ]
  },
  {
   "cell_type": "code",
   "execution_count": 42,
   "id": "a9f0c1f8",
   "metadata": {},
   "outputs": [
    {
     "name": "stdout",
     "output_type": "stream",
     "text": [
      "final result:  122252.60000000107\n"
     ]
    },
    {
     "data": {
      "text/plain": [
       "122252.60000000107"
      ]
     },
     "execution_count": 42,
     "metadata": {},
     "output_type": "execute_result"
    }
   ],
   "source": [
    "random(10, \"Open\", cleandf)"
   ]
  },
  {
   "cell_type": "code",
   "execution_count": 43,
   "id": "d2e4c389",
   "metadata": {},
   "outputs": [],
   "source": [
    "# train markov model to get transition matrix\n",
    "def getTransitionMatrix (df):\n",
    "    df = np.array(df)\n",
    "    model = msm.estimate_markov_model(df, 1)\n",
    "    return model.transition_matrix\n"
   ]
  },
  {
   "cell_type": "code",
   "execution_count": 44,
   "id": "9c09cfa6",
   "metadata": {},
   "outputs": [],
   "source": [
    "# def algoPredict2(remodel, testdf, buyInState, buyOutState, num_state=3, valueUsed=\"Open\", stockPerBuy=10, initialMoney=0, allowDebt=True):\n",
    "\n",
    "    \n",
    "    \n",
    "#     # Note: initialMoney and allowDebt is not used at the moment\n",
    "#     Z2 = remodel.predict(testdf)\n",
    "    \n",
    "#     canBuy = True\n",
    "#     money = 0\n",
    "#     inHandStock = 0\n",
    "#     for i in range(len(Z2)):\n",
    "#         if i == (len(Z2) - 1) and inHandStock > 0:\n",
    "#             print(\"clearing out everything at the end\")\n",
    "#             print(f'before last trade, money = {money} and final stock left = {inHandStock}')\n",
    "#             money += inHandStock * testdf.at[i,valueUsed]\n",
    "#             inHandStock = 0\n",
    "#         elif Z2[i] == buyInState and canBuy:\n",
    "#             inHandStock += stockPerBuy\n",
    "#             money -= stockPerBuy * testdf.at[i,valueUsed]\n",
    "#             canBuy = False\n",
    "#         elif Z2[i] == buyOutState and inHandStock > 0 and not canBuy:\n",
    "#             inHandStock -= stockPerBuy\n",
    "#             money += stockPerBuy * testdf.at[i,valueUsed]\n",
    "#             canBuy = True\n",
    "            \n",
    "#     print(f'Total resulted money from this trading session = {money}')\n",
    "#     return money"
   ]
  },
  {
   "cell_type": "code",
   "execution_count": 45,
   "id": "cc947a62",
   "metadata": {},
   "outputs": [],
   "source": [
    "def overall(data, bit_coin_num, state_num):\n",
    "#     random_result = random(bit_coin_num, data)\n",
    "    \n",
    "    # markov\n",
    "    \n",
    "    chunkSize = kai.testdf.size/365\n",
    "    intervals = np.array_split(kai.testdf, chunkSize)\n",
    "    index = 0\n",
    "    for interval in intervals:\n",
    "        predict_result = kai.algoPredict2(kai.remodel, interval, 0, 1, num_state = state_num, valueUsed = data)\n",
    "        random_result = random(bit_coin_num, data, interval)\n",
    "        max_result = andrew.theoretical_max_gain_no_overlap(interval, 10, price_type=data)\n",
    "        score = (predict_result-random_result)/(max_result-random_result)\n",
    "        print(\"==========\", index)\n",
    "        print(score)\n",
    "        index += 1\n",
    "\n",
    "\n",
    "    \n",
    "    \n",
    "#     predict_result = kai.algoPredict2(kai.remodel, kai.testdf, 0, 1, num_state = state_num, valueUsed = data)\n",
    "#     print(\"hhhhhh\")\n",
    "    \n",
    "#     print(\"random: \", random_result, \"markov: \", predict_result)\n",
    "    \n",
    "    \n",
    "#     # max\n",
    "#     max_result = andrew.theoretical_max_gain_no_overlap(andrew.raw_data, datetime(year=2020, month=1, day=1), datetime(year=2020, month=12, day=31), 10, price_type=data)\n",
    "    \n",
    "    \n",
    "#     score = (predict_result-random_result)/(max_result-random_result)\n",
    "    \n",
    "#     print(\"score: \", score)"
   ]
  },
  {
   "cell_type": "code",
   "execution_count": 46,
   "id": "9cbde0da",
   "metadata": {
    "scrolled": true
   },
   "outputs": [
    {
     "name": "stdout",
     "output_type": "stream",
     "text": [
      "Total resulted money from this trading session = 381422.3000000033\n"
     ]
    },
    {
     "data": {
      "text/plain": [
       "381422.3000000033"
      ]
     },
     "execution_count": 46,
     "metadata": {},
     "output_type": "execute_result"
    }
   ],
   "source": [
    "kai.algoPredict2(kai.remodel, kai.testdf, 0, 1)"
   ]
  },
  {
   "cell_type": "code",
   "execution_count": 47,
   "id": "4ae43eaa",
   "metadata": {},
   "outputs": [
    {
     "name": "stdout",
     "output_type": "stream",
     "text": [
      "Total resulted money from this trading session = -903.5999999999767\n",
      "final result:  172.20000000001164\n",
      "        Open      High       Low     Close    Volume\n",
      "0   36467.99  36467.99  36404.75  36443.88  0.315436\n",
      "1   36753.43  36753.43  36441.79  36467.99  2.688382\n",
      "2   36663.07  36770.74  36663.07  36753.43  0.035037\n",
      "3   36704.30  36704.30  36641.22  36663.07  0.377833\n",
      "4   36622.96  36718.52  36622.96  36704.30  0.045218\n",
      "..       ...       ...       ...       ...       ...\n",
      "69  36837.48  36847.71  36828.73  36847.71  0.016451\n",
      "70  36841.44  36841.44  36821.09  36837.48  1.822248\n",
      "71  36784.52  36841.44  36777.98  36841.44  0.156711\n",
      "72  36753.56  36784.52  36750.76  36784.52  0.033085\n",
      "73  36796.99  36796.99  36735.09  36753.56  0.990870\n",
      "\n",
      "[74 rows x 5 columns]\n"
     ]
    },
    {
     "ename": "KeyError",
     "evalue": "\"['Date' 'Symbol' 'Unix Timestamp'] not found in axis\"",
     "output_type": "error",
     "traceback": [
      "\u001b[0;31m---------------------------------------------------------------------------\u001b[0m",
      "\u001b[0;31mKeyError\u001b[0m                                  Traceback (most recent call last)",
      "\u001b[0;32m/var/folders/m9/n117xvfd2nqdm02xgxmy470m0000gn/T/ipykernel_37702/1277154754.py\u001b[0m in \u001b[0;36m<module>\u001b[0;34m\u001b[0m\n\u001b[0;32m----> 1\u001b[0;31m \u001b[0moverall\u001b[0m\u001b[0;34m(\u001b[0m\u001b[0;34m\"Open\"\u001b[0m\u001b[0;34m,\u001b[0m \u001b[0;36m10\u001b[0m\u001b[0;34m,\u001b[0m \u001b[0;36m3\u001b[0m\u001b[0;34m)\u001b[0m\u001b[0;34m\u001b[0m\u001b[0;34m\u001b[0m\u001b[0m\n\u001b[0m",
      "\u001b[0;32m/var/folders/m9/n117xvfd2nqdm02xgxmy470m0000gn/T/ipykernel_37702/2291914286.py\u001b[0m in \u001b[0;36moverall\u001b[0;34m(data, bit_coin_num, state_num)\u001b[0m\n\u001b[1;32m     10\u001b[0m         \u001b[0mpredict_result\u001b[0m \u001b[0;34m=\u001b[0m \u001b[0mkai\u001b[0m\u001b[0;34m.\u001b[0m\u001b[0malgoPredict2\u001b[0m\u001b[0;34m(\u001b[0m\u001b[0mkai\u001b[0m\u001b[0;34m.\u001b[0m\u001b[0mremodel\u001b[0m\u001b[0;34m,\u001b[0m \u001b[0minterval\u001b[0m\u001b[0;34m,\u001b[0m \u001b[0;36m0\u001b[0m\u001b[0;34m,\u001b[0m \u001b[0;36m1\u001b[0m\u001b[0;34m,\u001b[0m \u001b[0mnum_state\u001b[0m \u001b[0;34m=\u001b[0m \u001b[0mstate_num\u001b[0m\u001b[0;34m,\u001b[0m \u001b[0mvalueUsed\u001b[0m \u001b[0;34m=\u001b[0m \u001b[0mdata\u001b[0m\u001b[0;34m)\u001b[0m\u001b[0;34m\u001b[0m\u001b[0;34m\u001b[0m\u001b[0m\n\u001b[1;32m     11\u001b[0m         \u001b[0mrandom_result\u001b[0m \u001b[0;34m=\u001b[0m \u001b[0mrandom\u001b[0m\u001b[0;34m(\u001b[0m\u001b[0mbit_coin_num\u001b[0m\u001b[0;34m,\u001b[0m \u001b[0mdata\u001b[0m\u001b[0;34m,\u001b[0m \u001b[0minterval\u001b[0m\u001b[0;34m)\u001b[0m\u001b[0;34m\u001b[0m\u001b[0;34m\u001b[0m\u001b[0m\n\u001b[0;32m---> 12\u001b[0;31m         \u001b[0mmax_result\u001b[0m \u001b[0;34m=\u001b[0m \u001b[0mandrew\u001b[0m\u001b[0;34m.\u001b[0m\u001b[0mtheoretical_max_gain_no_overlap\u001b[0m\u001b[0;34m(\u001b[0m\u001b[0minterval\u001b[0m\u001b[0;34m,\u001b[0m \u001b[0;36m10\u001b[0m\u001b[0;34m,\u001b[0m \u001b[0mprice_type\u001b[0m\u001b[0;34m=\u001b[0m\u001b[0mdata\u001b[0m\u001b[0;34m)\u001b[0m\u001b[0;34m\u001b[0m\u001b[0;34m\u001b[0m\u001b[0m\n\u001b[0m\u001b[1;32m     13\u001b[0m         \u001b[0mscore\u001b[0m \u001b[0;34m=\u001b[0m \u001b[0;34m(\u001b[0m\u001b[0mpredict_result\u001b[0m\u001b[0;34m-\u001b[0m\u001b[0mrandom_result\u001b[0m\u001b[0;34m)\u001b[0m\u001b[0;34m/\u001b[0m\u001b[0;34m(\u001b[0m\u001b[0mmax_result\u001b[0m\u001b[0;34m-\u001b[0m\u001b[0mrandom_result\u001b[0m\u001b[0;34m)\u001b[0m\u001b[0;34m\u001b[0m\u001b[0;34m\u001b[0m\u001b[0m\n\u001b[1;32m     14\u001b[0m         \u001b[0mprint\u001b[0m\u001b[0;34m(\u001b[0m\u001b[0;34m\"==========\"\u001b[0m\u001b[0;34m,\u001b[0m \u001b[0mindex\u001b[0m\u001b[0;34m)\u001b[0m\u001b[0;34m\u001b[0m\u001b[0;34m\u001b[0m\u001b[0m\n",
      "\u001b[0;32m~/Documents/2021-summer-coop4/cs486/project/cs486-project/code/adyang.ipynb\u001b[0m in \u001b[0;36mtheoretical_max_gain_no_overlap\u001b[0;34m(data, trade_factor, price_type)\u001b[0m\n\u001b[1;32m    103\u001b[0m       \u001b[0;34m\"3         429.95    429.95  0.000000  \\n\"\u001b[0m\u001b[0;34m,\u001b[0m\u001b[0;34m\u001b[0m\u001b[0;34m\u001b[0m\u001b[0m\n\u001b[1;32m    104\u001b[0m       \u001b[0;34m\"4         429.95    429.95  0.000000  \\n\"\u001b[0m\u001b[0;34m,\u001b[0m\u001b[0;34m\u001b[0m\u001b[0;34m\u001b[0m\u001b[0m\n\u001b[0;32m--> 105\u001b[0;31m       \u001b[0;34m\"...          ...       ...       ...  \\n\"\u001b[0m\u001b[0;34m,\u001b[0m\u001b[0;34m\u001b[0m\u001b[0;34m\u001b[0m\u001b[0m\n\u001b[0m\u001b[1;32m    106\u001b[0m       \u001b[0;34m\"231790  29046.04  29048.46  0.032502  \\n\"\u001b[0m\u001b[0;34m,\u001b[0m\u001b[0;34m\u001b[0m\u001b[0;34m\u001b[0m\u001b[0m\n\u001b[1;32m    107\u001b[0m       \u001b[0;34m\"231791  29028.69  29056.21  0.049909  \\n\"\u001b[0m\u001b[0;34m,\u001b[0m\u001b[0;34m\u001b[0m\u001b[0;34m\u001b[0m\u001b[0m\n",
      "\u001b[0;32m~/miniconda3/lib/python3.8/site-packages/pandas/util/_decorators.py\u001b[0m in \u001b[0;36mwrapper\u001b[0;34m(*args, **kwargs)\u001b[0m\n\u001b[1;32m    309\u001b[0m                     \u001b[0mstacklevel\u001b[0m\u001b[0;34m=\u001b[0m\u001b[0mstacklevel\u001b[0m\u001b[0;34m,\u001b[0m\u001b[0;34m\u001b[0m\u001b[0;34m\u001b[0m\u001b[0m\n\u001b[1;32m    310\u001b[0m                 )\n\u001b[0;32m--> 311\u001b[0;31m             \u001b[0;32mreturn\u001b[0m \u001b[0mfunc\u001b[0m\u001b[0;34m(\u001b[0m\u001b[0;34m*\u001b[0m\u001b[0margs\u001b[0m\u001b[0;34m,\u001b[0m \u001b[0;34m**\u001b[0m\u001b[0mkwargs\u001b[0m\u001b[0;34m)\u001b[0m\u001b[0;34m\u001b[0m\u001b[0;34m\u001b[0m\u001b[0m\n\u001b[0m\u001b[1;32m    312\u001b[0m \u001b[0;34m\u001b[0m\u001b[0m\n\u001b[1;32m    313\u001b[0m         \u001b[0;32mreturn\u001b[0m \u001b[0mwrapper\u001b[0m\u001b[0;34m\u001b[0m\u001b[0;34m\u001b[0m\u001b[0m\n",
      "\u001b[0;32m~/miniconda3/lib/python3.8/site-packages/pandas/core/frame.py\u001b[0m in \u001b[0;36mdrop\u001b[0;34m(self, labels, axis, index, columns, level, inplace, errors)\u001b[0m\n\u001b[1;32m   4899\u001b[0m                 \u001b[0mweight\u001b[0m  \u001b[0;36m1.0\u001b[0m     \u001b[0;36m0.8\u001b[0m\u001b[0;34m\u001b[0m\u001b[0;34m\u001b[0m\u001b[0m\n\u001b[1;32m   4900\u001b[0m         \"\"\"\n\u001b[0;32m-> 4901\u001b[0;31m         return super().drop(\n\u001b[0m\u001b[1;32m   4902\u001b[0m             \u001b[0mlabels\u001b[0m\u001b[0;34m=\u001b[0m\u001b[0mlabels\u001b[0m\u001b[0;34m,\u001b[0m\u001b[0;34m\u001b[0m\u001b[0;34m\u001b[0m\u001b[0m\n\u001b[1;32m   4903\u001b[0m             \u001b[0maxis\u001b[0m\u001b[0;34m=\u001b[0m\u001b[0maxis\u001b[0m\u001b[0;34m,\u001b[0m\u001b[0;34m\u001b[0m\u001b[0;34m\u001b[0m\u001b[0m\n",
      "\u001b[0;32m~/miniconda3/lib/python3.8/site-packages/pandas/core/generic.py\u001b[0m in \u001b[0;36mdrop\u001b[0;34m(self, labels, axis, index, columns, level, inplace, errors)\u001b[0m\n\u001b[1;32m   4145\u001b[0m         \u001b[0;32mfor\u001b[0m \u001b[0maxis\u001b[0m\u001b[0;34m,\u001b[0m \u001b[0mlabels\u001b[0m \u001b[0;32min\u001b[0m \u001b[0maxes\u001b[0m\u001b[0;34m.\u001b[0m\u001b[0mitems\u001b[0m\u001b[0;34m(\u001b[0m\u001b[0;34m)\u001b[0m\u001b[0;34m:\u001b[0m\u001b[0;34m\u001b[0m\u001b[0;34m\u001b[0m\u001b[0m\n\u001b[1;32m   4146\u001b[0m             \u001b[0;32mif\u001b[0m \u001b[0mlabels\u001b[0m \u001b[0;32mis\u001b[0m \u001b[0;32mnot\u001b[0m \u001b[0;32mNone\u001b[0m\u001b[0;34m:\u001b[0m\u001b[0;34m\u001b[0m\u001b[0;34m\u001b[0m\u001b[0m\n\u001b[0;32m-> 4147\u001b[0;31m                 \u001b[0mobj\u001b[0m \u001b[0;34m=\u001b[0m \u001b[0mobj\u001b[0m\u001b[0;34m.\u001b[0m\u001b[0m_drop_axis\u001b[0m\u001b[0;34m(\u001b[0m\u001b[0mlabels\u001b[0m\u001b[0;34m,\u001b[0m \u001b[0maxis\u001b[0m\u001b[0;34m,\u001b[0m \u001b[0mlevel\u001b[0m\u001b[0;34m=\u001b[0m\u001b[0mlevel\u001b[0m\u001b[0;34m,\u001b[0m \u001b[0merrors\u001b[0m\u001b[0;34m=\u001b[0m\u001b[0merrors\u001b[0m\u001b[0;34m)\u001b[0m\u001b[0;34m\u001b[0m\u001b[0;34m\u001b[0m\u001b[0m\n\u001b[0m\u001b[1;32m   4148\u001b[0m \u001b[0;34m\u001b[0m\u001b[0m\n\u001b[1;32m   4149\u001b[0m         \u001b[0;32mif\u001b[0m \u001b[0minplace\u001b[0m\u001b[0;34m:\u001b[0m\u001b[0;34m\u001b[0m\u001b[0;34m\u001b[0m\u001b[0m\n",
      "\u001b[0;32m~/miniconda3/lib/python3.8/site-packages/pandas/core/generic.py\u001b[0m in \u001b[0;36m_drop_axis\u001b[0;34m(self, labels, axis, level, errors)\u001b[0m\n\u001b[1;32m   4180\u001b[0m                 \u001b[0mnew_axis\u001b[0m \u001b[0;34m=\u001b[0m \u001b[0maxis\u001b[0m\u001b[0;34m.\u001b[0m\u001b[0mdrop\u001b[0m\u001b[0;34m(\u001b[0m\u001b[0mlabels\u001b[0m\u001b[0;34m,\u001b[0m \u001b[0mlevel\u001b[0m\u001b[0;34m=\u001b[0m\u001b[0mlevel\u001b[0m\u001b[0;34m,\u001b[0m \u001b[0merrors\u001b[0m\u001b[0;34m=\u001b[0m\u001b[0merrors\u001b[0m\u001b[0;34m)\u001b[0m\u001b[0;34m\u001b[0m\u001b[0;34m\u001b[0m\u001b[0m\n\u001b[1;32m   4181\u001b[0m             \u001b[0;32melse\u001b[0m\u001b[0;34m:\u001b[0m\u001b[0;34m\u001b[0m\u001b[0;34m\u001b[0m\u001b[0m\n\u001b[0;32m-> 4182\u001b[0;31m                 \u001b[0mnew_axis\u001b[0m \u001b[0;34m=\u001b[0m \u001b[0maxis\u001b[0m\u001b[0;34m.\u001b[0m\u001b[0mdrop\u001b[0m\u001b[0;34m(\u001b[0m\u001b[0mlabels\u001b[0m\u001b[0;34m,\u001b[0m \u001b[0merrors\u001b[0m\u001b[0;34m=\u001b[0m\u001b[0merrors\u001b[0m\u001b[0;34m)\u001b[0m\u001b[0;34m\u001b[0m\u001b[0;34m\u001b[0m\u001b[0m\n\u001b[0m\u001b[1;32m   4183\u001b[0m             \u001b[0mresult\u001b[0m \u001b[0;34m=\u001b[0m \u001b[0mself\u001b[0m\u001b[0;34m.\u001b[0m\u001b[0mreindex\u001b[0m\u001b[0;34m(\u001b[0m\u001b[0;34m**\u001b[0m\u001b[0;34m{\u001b[0m\u001b[0maxis_name\u001b[0m\u001b[0;34m:\u001b[0m \u001b[0mnew_axis\u001b[0m\u001b[0;34m}\u001b[0m\u001b[0;34m)\u001b[0m\u001b[0;34m\u001b[0m\u001b[0;34m\u001b[0m\u001b[0m\n\u001b[1;32m   4184\u001b[0m \u001b[0;34m\u001b[0m\u001b[0m\n",
      "\u001b[0;32m~/miniconda3/lib/python3.8/site-packages/pandas/core/indexes/base.py\u001b[0m in \u001b[0;36mdrop\u001b[0;34m(self, labels, errors)\u001b[0m\n\u001b[1;32m   6016\u001b[0m         \u001b[0;32mif\u001b[0m \u001b[0mmask\u001b[0m\u001b[0;34m.\u001b[0m\u001b[0many\u001b[0m\u001b[0;34m(\u001b[0m\u001b[0;34m)\u001b[0m\u001b[0;34m:\u001b[0m\u001b[0;34m\u001b[0m\u001b[0;34m\u001b[0m\u001b[0m\n\u001b[1;32m   6017\u001b[0m             \u001b[0;32mif\u001b[0m \u001b[0merrors\u001b[0m \u001b[0;34m!=\u001b[0m \u001b[0;34m\"ignore\"\u001b[0m\u001b[0;34m:\u001b[0m\u001b[0;34m\u001b[0m\u001b[0;34m\u001b[0m\u001b[0m\n\u001b[0;32m-> 6018\u001b[0;31m                 \u001b[0;32mraise\u001b[0m \u001b[0mKeyError\u001b[0m\u001b[0;34m(\u001b[0m\u001b[0;34mf\"{labels[mask]} not found in axis\"\u001b[0m\u001b[0;34m)\u001b[0m\u001b[0;34m\u001b[0m\u001b[0;34m\u001b[0m\u001b[0m\n\u001b[0m\u001b[1;32m   6019\u001b[0m             \u001b[0mindexer\u001b[0m \u001b[0;34m=\u001b[0m \u001b[0mindexer\u001b[0m\u001b[0;34m[\u001b[0m\u001b[0;34m~\u001b[0m\u001b[0mmask\u001b[0m\u001b[0;34m]\u001b[0m\u001b[0;34m\u001b[0m\u001b[0;34m\u001b[0m\u001b[0m\n\u001b[1;32m   6020\u001b[0m         \u001b[0;32mreturn\u001b[0m \u001b[0mself\u001b[0m\u001b[0;34m.\u001b[0m\u001b[0mdelete\u001b[0m\u001b[0;34m(\u001b[0m\u001b[0mindexer\u001b[0m\u001b[0;34m)\u001b[0m\u001b[0;34m\u001b[0m\u001b[0;34m\u001b[0m\u001b[0m\n",
      "\u001b[0;31mKeyError\u001b[0m: \"['Date' 'Symbol' 'Unix Timestamp'] not found in axis\""
     ]
    }
   ],
   "source": [
    "overall(\"Open\", 10, 3)"
   ]
  },
  {
   "cell_type": "code",
   "execution_count": null,
   "id": "ca990082",
   "metadata": {},
   "outputs": [],
   "source": []
  },
  {
   "cell_type": "code",
   "execution_count": null,
   "id": "d85b62fd",
   "metadata": {},
   "outputs": [],
   "source": []
  }
 ],
 "metadata": {
  "kernelspec": {
   "display_name": "Python 3",
   "language": "python",
   "name": "python3"
  },
  "language_info": {
   "codemirror_mode": {
    "name": "ipython",
    "version": 3
   },
   "file_extension": ".py",
   "mimetype": "text/x-python",
   "name": "python",
   "nbconvert_exporter": "python",
   "pygments_lexer": "ipython3",
   "version": "3.7.7"
  }
 },
 "nbformat": 4,
 "nbformat_minor": 5
}
