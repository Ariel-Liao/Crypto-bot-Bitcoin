{
 "cells": [
  {
   "cell_type": "markdown",
   "id": "598010aa-7692-4557-b45d-7a1ecff02ccd",
   "metadata": {},
   "source": [
    "This file is for a generic hidden markov chain model\n",
    "https://www.kaggle.com/fortjohnson/markov-chains-and-hidden-markov-models"
   ]
  },
  {
   "cell_type": "code",
   "execution_count": 1,
   "id": "b589a0d8-f165-4265-b64c-ce083e6f5cfc",
   "metadata": {},
   "outputs": [
    {
     "ename": "ModuleNotFoundError",
     "evalue": "No module named 'sklearn'",
     "output_type": "error",
     "traceback": [
      "\u001b[0;31m---------------------------------------------------------------------------\u001b[0m",
      "\u001b[0;31mModuleNotFoundError\u001b[0m                       Traceback (most recent call last)",
      "\u001b[0;32m/var/folders/m9/n117xvfd2nqdm02xgxmy470m0000gn/T/ipykernel_36658/3855021437.py\u001b[0m in \u001b[0;36m<module>\u001b[0;34m\u001b[0m\n\u001b[1;32m      7\u001b[0m \u001b[0;32mfrom\u001b[0m \u001b[0mmatplotlib\u001b[0m \u001b[0;32mimport\u001b[0m \u001b[0mpyplot\u001b[0m \u001b[0;32mas\u001b[0m \u001b[0mplt\u001b[0m\u001b[0;34m\u001b[0m\u001b[0;34m\u001b[0m\u001b[0m\n\u001b[1;32m      8\u001b[0m \u001b[0;34m\u001b[0m\u001b[0m\n\u001b[0;32m----> 9\u001b[0;31m \u001b[0;32mfrom\u001b[0m \u001b[0msklearn\u001b[0m \u001b[0;32mimport\u001b[0m \u001b[0mpreprocessing\u001b[0m\u001b[0;34m\u001b[0m\u001b[0;34m\u001b[0m\u001b[0m\n\u001b[0m\u001b[1;32m     10\u001b[0m \u001b[0;32mfrom\u001b[0m \u001b[0msklearn\u001b[0m\u001b[0;34m.\u001b[0m\u001b[0mdecomposition\u001b[0m \u001b[0;32mimport\u001b[0m \u001b[0mPCA\u001b[0m\u001b[0;34m\u001b[0m\u001b[0;34m\u001b[0m\u001b[0m\n\u001b[1;32m     11\u001b[0m \u001b[0;32mfrom\u001b[0m \u001b[0msklearn\u001b[0m\u001b[0;34m.\u001b[0m\u001b[0mcluster\u001b[0m \u001b[0;32mimport\u001b[0m \u001b[0mKMeans\u001b[0m\u001b[0;34m\u001b[0m\u001b[0;34m\u001b[0m\u001b[0m\n",
      "\u001b[0;31mModuleNotFoundError\u001b[0m: No module named 'sklearn'"
     ]
    }
   ],
   "source": [
    "import pandas as pd\n",
    "import numpy as np\n",
    "\n",
    "import matplotlib\n",
    "# import seaborn\n",
    "import matplotlib.dates as md\n",
    "from matplotlib import pyplot as plt\n",
    "\n",
    "from sklearn import preprocessing\n",
    "from sklearn.decomposition import PCA\n",
    "from sklearn.cluster import KMeans\n",
    "from sklearn.covariance import EllipticEnvelope\n",
    "from pyemma import msm\n",
    "from sklearn.ensemble import IsolationForest\n",
    "from sklearn.svm import OneClassSVM\n",
    "from hmmlearn import hmm\n",
    "\n",
    "np.random.seed(42)"
   ]
  },
  {
   "cell_type": "code",
   "execution_count": 2,
   "id": "53adee8a-9f4f-4255-9c2d-ab72f6c05e42",
   "metadata": {},
   "outputs": [],
   "source": [
    "# code cleaning\n",
    "x_filename = '../data/gemini_BTCUSD_2021_1min.csv'\n",
    "x_testFile = '../data/gemini_BTCUSD_2020_1min.csv'\n",
    "\n",
    "def cleanData(fileName = '../data/gemini_BTCUSD_2021_1min.csv', timeRangeInHour=1, valueUsed=\"open\"):\n",
    "    # Read Data\n",
    "    df = pd.read_csv(x_filename, skiprows=[0], low_memory=False)\n",
    "    cdf = df.drop(columns=['Date', 'Symbol', 'Unix Timestamp'], axis=1)\n",
    "    return cdf\n",
    "\n",
    "cleandf = cleanData()\n",
    "testdf = cleanData(x_testFile)"
   ]
  },
  {
   "cell_type": "code",
   "execution_count": 3,
   "id": "c9b00790-f0aa-446d-8061-4bb1b146dcb3",
   "metadata": {},
   "outputs": [],
   "source": [
    "# train markov model to get transition matrix\n",
    "def getTransitionMatrix (df):\n",
    "    df = np.array(df)\n",
    "    model = msm.estimate_markov_model(df, 1)\n",
    "    return model.transition_matrix\n",
    "\n",
    "remodel = hmm.GaussianHMM(n_components=4, covariance_type=\"full\", n_iter=100)\n",
    "remodel.fit(cleandf)\n",
    "Z2 = remodel.predict(testdf)"
   ]
  },
  {
   "cell_type": "code",
   "execution_count": 4,
   "id": "49202e82-80f1-4511-8baa-2561c1355be0",
   "metadata": {},
   "outputs": [
    {
     "data": {
      "text/plain": [
       "GaussianHMM(covariance_type='full', n_components=3, n_iter=100)"
      ]
     },
     "execution_count": 4,
     "metadata": {},
     "output_type": "execute_result"
    }
   ],
   "source": [
    "remodel = hmm.GaussianHMM(n_components=3, covariance_type=\"full\", n_iter=100)\n",
    "remodel.fit(cleandf)"
   ]
  },
  {
   "cell_type": "code",
   "execution_count": 5,
   "id": "cda80caf-fa3b-4ff7-ad01-309cd28e2d5e",
   "metadata": {},
   "outputs": [
    {
     "name": "stdout",
     "output_type": "stream",
     "text": [
      "Total resulted money from this trading session = -3958220012.200127\n",
      "clearing out everything at the end\n",
      "before last trade, money = -10067465940.600077 and final stock left = 384270\n",
      "Total resulted money from this trading session = 1068578749.1999245\n",
      "clearing out everything at the end\n",
      "before last trade, money = -2065721127.0999982 and final stock left = 88630\n",
      "Total resulted money from this trading session = 502753229.10000205\n",
      "clearing out everything at the end\n",
      "before last trade, money = -49981250974.79914 and final stock left = 872960\n",
      "Total resulted money from this trading session = -24683097144.39914\n",
      "clearing out everything at the end\n",
      "before last trade, money = -11614890816.099964 and final stock left = 469810\n",
      "Total resulted money from this trading session = 2000080833.3000374\n",
      "clearing out everything at the end\n",
      "before last trade, money = -48637603902.99852 and final stock left = 721690\n",
      "Total resulted money from this trading session = -27723215342.398518\n"
     ]
    },
    {
     "data": {
      "text/plain": [
       "-27723215342.398518"
      ]
     },
     "execution_count": 5,
     "metadata": {},
     "output_type": "execute_result"
    }
   ],
   "source": [
    "def algoPredict(remodel, testdf, buyInState, buyOutState, num_state=3, valueUsed=\"Open\", stockPerBuy=10, initialMoney=0, allowDebt=True):\n",
    "    # Note: initialMoney and allowDebt is not used at the moment\n",
    "    Z2 = remodel.predict(testdf)\n",
    "    \n",
    "    money = 0\n",
    "    inHandStock = 0\n",
    "    for i in range(len(Z2)):\n",
    "        if i == (len(Z2) - 1) and inHandStock > 0:\n",
    "            print(\"clearing out everything at the end\")\n",
    "            print(f'before last trade, money = {money} and final stock left = {inHandStock}')\n",
    "            money += inHandStock * testdf.at[i,valueUsed]\n",
    "            inHandStock = 0\n",
    "        elif Z2[i] == buyInState:\n",
    "            inHandStock += stockPerBuy\n",
    "            money -= stockPerBuy * testdf.at[i,valueUsed]\n",
    "        elif Z2[i] == buyOutState and inHandStock > 0:\n",
    "            inHandStock -= stockPerBuy\n",
    "            money += stockPerBuy * testdf.at[i,valueUsed]\n",
    "            \n",
    "    print(f'Total resulted money from this trading session = {money}')\n",
    "    return money\n",
    "\n",
    "\n",
    "# algoPredict(remodel, testdf, 0, 1)\n",
    "# algoPredict(remodel, testdf, 1, 0)\n",
    "# algoPredict(remodel, testdf, 0, 2)\n",
    "# algoPredict(remodel, testdf, 2, 0)\n",
    "# algoPredict(remodel, testdf, 1, 2)\n",
    "# algoPredict(remodel, testdf, 2, 1)"
   ]
  },
  {
   "cell_type": "code",
   "execution_count": 6,
   "id": "388412aa-b1f2-44ad-860c-089693d7b63f",
   "metadata": {},
   "outputs": [
    {
     "name": "stdout",
     "output_type": "stream",
     "text": [
      "Total resulted money from this trading session = 381422.3000000033\n",
      "clearing out everything at the end\n",
      "before last trade, money = -746102.2000000022 and final stock left = 10\n",
      "Total resulted money from this trading session = -456304.80000000214\n",
      "clearing out everything at the end\n",
      "before last trade, money = 641110.5999999951 and final stock left = 10\n",
      "Total resulted money from this trading session = 930907.9999999951\n",
      "Total resulted money from this trading session = -1008644.8999999912\n",
      "clearing out everything at the end\n",
      "before last trade, money = -310365.6 and final stock left = 10\n",
      "Total resulted money from this trading session = -20568.199999999953\n",
      "Total resulted money from this trading session = -54314.29999999999\n"
     ]
    },
    {
     "data": {
      "text/plain": [
       "-54314.29999999999"
      ]
     },
     "execution_count": 6,
     "metadata": {},
     "output_type": "execute_result"
    }
   ],
   "source": [
    "def algoPredict2(remodel, testdf, buyInState, buyOutState, num_state=3, valueUsed=\"Open\", stockPerBuy=10, initialMoney=0, allowDebt=True):\n",
    "    # Note: initialMoney and allowDebt is not used at the moment\n",
    "    Z2 = remodel.predict(testdf)\n",
    "    \n",
    "    canBuy = True\n",
    "    money = 0\n",
    "    inHandStock = 0\n",
    "    for i in range(len(Z2)):\n",
    "        if i == (len(Z2) - 1) and inHandStock > 0:\n",
    "            print(\"clearing out everything at the end\")\n",
    "            print(f'before last trade, money = {money} and final stock left = {inHandStock}')\n",
    "            money += inHandStock * testdf.at[i,valueUsed]\n",
    "            inHandStock = 0\n",
    "        elif Z2[i] == buyInState and canBuy:\n",
    "            inHandStock += stockPerBuy\n",
    "            money -= stockPerBuy * testdf.at[i,valueUsed]\n",
    "            canBuy = False\n",
    "        elif Z2[i] == buyOutState and inHandStock > 0 and not canBuy:\n",
    "            inHandStock -= stockPerBuy\n",
    "            money += stockPerBuy * testdf.at[i,valueUsed]\n",
    "            canBuy = True\n",
    "            \n",
    "    print(f'Total resulted money from this trading session = {money}')\n",
    "    return money\n",
    "\n",
    "\n",
    "# algoPredict2(remodel, testdf, 0, 1)\n",
    "# algoPredict2(remodel, testdf, 1, 0)\n",
    "# algoPredict2(remodel, testdf, 0, 2)\n",
    "# algoPredict2(remodel, testdf, 2, 0)\n",
    "# algoPredict2(remodel, testdf, 1, 2)\n",
    "# algoPredict2(remodel, testdf, 2, 1)"
   ]
  },
  {
   "cell_type": "code",
   "execution_count": 22,
   "id": "ebf7d23c-3e45-48cf-9751-4bf22a15c5fb",
   "metadata": {},
   "outputs": [
    {
     "name": "stdout",
     "output_type": "stream",
     "text": [
      "Requirement already satisfied: numpy in /Users/kaiyuanchi/Documents/CS486/cs486-project/venv/lib/python3.7/site-packages (1.20.3)\n",
      "Note: you may need to restart the kernel to use updated packages.\n"
     ]
    }
   ],
   "source": []
  },
  {
   "cell_type": "code",
   "execution_count": null,
   "id": "cbe723c8-a0e2-4cd6-8b1b-1231e32fc7b0",
   "metadata": {},
   "outputs": [],
   "source": []
  }
 ],
 "metadata": {
  "kernelspec": {
   "display_name": "Python 3 (ipykernel)",
   "language": "python",
   "name": "python3"
  },
  "language_info": {
   "codemirror_mode": {
    "name": "ipython",
    "version": 3
   },
   "file_extension": ".py",
   "mimetype": "text/x-python",
   "name": "python",
   "nbconvert_exporter": "python",
   "pygments_lexer": "ipython3",
   "version": "3.8.5"
  }
 },
 "nbformat": 4,
 "nbformat_minor": 5
}
