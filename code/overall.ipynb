{
 "cells": [
  {
   "cell_type": "markdown",
   "id": "598010aa-7692-4557-b45d-7a1ecff02ccd",
   "metadata": {},
   "source": [
    "This file is for a generic hidden markov chain model\n",
    "https://www.kaggle.com/fortjohnson/markov-chains-and-hidden-markov-models"
   ]
  },
  {
   "cell_type": "code",
   "execution_count": 1,
   "id": "b589a0d8-f165-4265-b64c-ce083e6f5cfc",
   "metadata": {},
   "outputs": [],
   "source": [
    "from matplotlib import pyplot as plt\n",
    "from datetime import datetime\n",
    "from sklearn import preprocessing\n",
    "from sklearn.decomposition import PCA\n",
    "from sklearn.cluster import KMeans\n",
    "from sklearn.covariance import EllipticEnvelope\n",
    "from pyemma import msm\n",
    "from sklearn.ensemble import IsolationForest\n",
    "from sklearn.svm import OneClassSVM\n",
    "from hmmlearn import hmm\n",
    "\n",
    "import pandas as pd\n",
    "import numpy as np\n",
    "import random as rd\n",
    "import matplotlib\n",
    "import matplotlib.dates as md\n",
    "\n",
    "np.random.seed(42)"
   ]
  },
  {
   "cell_type": "code",
   "execution_count": 2,
   "id": "53adee8a-9f4f-4255-9c2d-ab72f6c05e42",
   "metadata": {},
   "outputs": [],
   "source": [
    "# Data cleaning\n",
    "\n",
    "x_filename = '../data/gemini_BTCUSD_2021_1min.csv'\n",
    "x_testFile = '../data/gemini_BTCUSD_2020_1min.csv'\n",
    "\n",
    "def cleanData(fileName = '../data/gemini_BTCUSD_2021_1min.csv', timeRangeInHour=1, valueUsed=\"open\"):\n",
    "    # Read Data\n",
    "    df = pd.read_csv(x_filename, skiprows=[0], low_memory=False)\n",
    "    cdf = df.drop(columns=['Date', 'Symbol', 'Unix Timestamp'], axis=1)\n",
    "    return cdf\n",
    "\n",
    "cleandf = cleanData()\n",
    "testdf = cleanData(x_testFile)"
   ]
  },
  {
   "cell_type": "code",
   "execution_count": 3,
   "id": "c9b00790-f0aa-446d-8061-4bb1b146dcb3",
   "metadata": {},
   "outputs": [],
   "source": [
    "# Get Hidden Markov Chain Model\n",
    "\n",
    "remodel = hmm.GaussianHMM(n_components=4, covariance_type=\"full\", n_iter=100)\n",
    "remodel.fit(cleandf)\n",
    "Z2 = remodel.predict(testdf)"
   ]
  },
  {
   "cell_type": "code",
   "execution_count": 4,
   "id": "cda80caf-fa3b-4ff7-ad01-309cd28e2d5e",
   "metadata": {},
   "outputs": [],
   "source": [
    "# Create trading Agent\n",
    "\n",
    "def algoPredict(remodel, testdf, buyInState, buyOutState, num_state=3, valueUsed=\"Open\", stockPerBuy=10, initialMoney=0, allowDebt=True):\n",
    "    # Note: initialMoney and allowDebt is not used at the moment\n",
    "    Z2 = remodel.predict(testdf)\n",
    "    \n",
    "    money = 0\n",
    "    inHandStock = 0\n",
    "    for i in range(len(Z2)):\n",
    "        if i == (len(Z2) - 1) and inHandStock > 0:\n",
    "            money += inHandStock * testdf.at[i,valueUsed]\n",
    "            inHandStock = 0\n",
    "        elif Z2[i] == buyInState:\n",
    "            inHandStock += stockPerBuy\n",
    "            money -= stockPerBuy * testdf.at[i,valueUsed]\n",
    "        elif Z2[i] == buyOutState and inHandStock > 0:\n",
    "            inHandStock -= stockPerBuy\n",
    "            money += stockPerBuy * testdf.at[i,valueUsed]\n",
    "    return money"
   ]
  },
  {
   "cell_type": "code",
   "execution_count": 5,
   "id": "02d5f995-bda7-4659-be88-44d17d9fbcba",
   "metadata": {},
   "outputs": [],
   "source": [
    "# Create trading Agent 2\n",
    "\n",
    "def algoPredict2(remodel, testdf, buyInState, buyOutState, num_state=3, valueUsed=\"Open\", stockPerBuy=10, initialMoney=0, allowDebt=True):\n",
    "    # Note: initialMoney and allowDebt is not used at the moment\n",
    "    Z2 = remodel.predict(testdf)\n",
    "    \n",
    "    canBuy = True\n",
    "    money = 0\n",
    "    inHandStock = 0\n",
    "    for i in range(len(Z2)):\n",
    "        if i == (len(Z2) - 1) and inHandStock > 0:\n",
    "            money += inHandStock * testdf.at[i,valueUsed]\n",
    "            inHandStock = 0\n",
    "        elif Z2[i] == buyInState and canBuy:\n",
    "            inHandStock += stockPerBuy\n",
    "            money -= stockPerBuy * testdf.at[i,valueUsed]\n",
    "            canBuy = False\n",
    "        elif Z2[i] == buyOutState and inHandStock > 0 and not canBuy:\n",
    "            inHandStock -= stockPerBuy\n",
    "            money += stockPerBuy * testdf.at[i,valueUsed]\n",
    "            canBuy = True\n",
    "    return [buyInState, buyOutState, money]"
   ]
  },
  {
   "cell_type": "code",
   "execution_count": 6,
   "id": "054c4c52-e454-4b1d-b8d1-89a0c3e073dc",
   "metadata": {},
   "outputs": [
    {
     "data": {
      "text/plain": [
       "[1, 2, 608183.600000005]"
      ]
     },
     "execution_count": 6,
     "metadata": {},
     "output_type": "execute_result"
    }
   ],
   "source": [
    "# Get best prediction result\n",
    "\n",
    "def findMarkovBest(remodel, testdf, num_state=3):\n",
    "    best_result = []\n",
    "    for i in range(num_state):\n",
    "        for j in range(num_state):\n",
    "            if i != j:\n",
    "                curr_result = algoPredict2(remodel, testdf, i, j, num_state)\n",
    "                if len(best_result) == 0:\n",
    "                    best_result = curr_result\n",
    "                elif curr_result[2] > best_result[2]:\n",
    "                    best_result = curr_result\n",
    "#     print(f'best result = {best_result}')\n",
    "    return best_result\n",
    "\n",
    "findMarkovBest(remodel, testdf, num_state=3) "
   ]
  },
  {
   "cell_type": "code",
   "execution_count": 7,
   "id": "cbe723c8-a0e2-4cd6-8b1b-1231e32fc7b0",
   "metadata": {},
   "outputs": [
    {
     "data": {
      "text/plain": [
       "-55107352.49999999"
      ]
     },
     "execution_count": 7,
     "metadata": {},
     "output_type": "execute_result"
    }
   ],
   "source": [
    "# Get max gain as our top-line\n",
    "\n",
    "def theoretical_max_gain_no_overlap(data,  trade_factor = 1, price_type = 'Open'):\n",
    "    labels = list(filter(lambda label: label != price_type, ['High', 'Low', 'Close', 'Volume']))\n",
    "    diff = data.drop(columns=labels, axis=1).diff()\n",
    "    diff = diff.drop(index=diff.index[0])\n",
    "    diff = diff[diff[price_type] > 0.0]\n",
    "    return (diff.sum() * trade_factor)[0]\n",
    "\n",
    "theoretical_max_gain_no_overlap(testdf, 10)\n",
    "\n",
    "def theoretical_max_loss_no_overlap(data,  trade_factor = 1, price_type = 'Open'):\n",
    "    labels = list(filter(lambda label: label != price_type, ['High', 'Low', 'Close', 'Volume']))\n",
    "    data.apply(lambda num: -1 * num)\n",
    "    diff = data.drop(columns=labels, axis=1).diff()\n",
    "    diff = diff.drop(index=diff.index[0])\n",
    "    diff = diff[diff[price_type] < 0.0]\n",
    "    return (diff.sum() * trade_factor)[0]\n",
    "\n",
    "theoretical_max_loss_no_overlap(testdf, 10)"
   ]
  },
  {
   "cell_type": "code",
   "execution_count": 8,
   "id": "0852cbb7-ae0a-4116-9545-922b176d8bdc",
   "metadata": {},
   "outputs": [
    {
     "data": {
      "text/plain": [
       "47910.5500000005"
      ]
     },
     "execution_count": 8,
     "metadata": {},
     "output_type": "execute_result"
    }
   ],
   "source": [
    "# Get random gain as our base-line\n",
    "\n",
    "def random(bit_num, data, cleandf):\n",
    "    open_col = cleandf[data]\n",
    "    num_choice = rd.randint(0, len(open_col))\n",
    "    random_choice = rd.choices(open_col, k = num_choice)\n",
    "    result = 0\n",
    "    for i in range(num_choice-1):\n",
    "        result += (bit_num*(random_choice[i+1]-random_choice[i]) )\n",
    "        i += 1\n",
    "    return result\n",
    "\n",
    "\n",
    "# Get an average random gain for better accuracy\n",
    "\n",
    "def getRandomAvg(bit_num, data, cleandf, iterations = 30):\n",
    "    # we repeat getting random for iterations times and get an average random\n",
    "    sum = 0\n",
    "    for i in range(iterations):\n",
    "        sum += random(bit_num, data, cleandf)\n",
    "        \n",
    "    return sum / iterations\n",
    "        \n",
    "getRandomAvg(10, \"Open\", cleandf)"
   ]
  },
  {
   "cell_type": "code",
   "execution_count": 9,
   "id": "5ebd1341-5595-4f01-8195-88f439cbf226",
   "metadata": {},
   "outputs": [
    {
     "name": "stdout",
     "output_type": "stream",
     "text": [
      "[-55107352.49999999, 0, 7676.913333332946, 13376.09999999986, 608183.600000005, 948299.8999999949, 948299.8999999949, 948299.8999999949, 55032469.99999999]\n"
     ]
    }
   ],
   "source": [
    "# Get a collection of learn results from all the algorithms we have implemented\n",
    "\n",
    "def getLearnResult(inputData, factor=10, col_name = \"Open\"):\n",
    "    # Returns an array of values in order: \"Random, HMM(state = 3), HMM(state = 4), HMM(state = 5), HMM(state = 6), Max Gain\" for the given inputData (testdf)\n",
    "    result_array = []\n",
    "    result_array.append(theoretical_max_loss_no_overlap(inputData, factor, col_name))\n",
    "    result_array.append(0) # 0 gain comparison\n",
    "    result_array.append(getRandomAvg(factor, col_name, inputData))\n",
    "    result_array.append(findMarkovBest(remodel, inputData, 2)[2])\n",
    "    result_array.append(findMarkovBest(remodel, inputData, 3)[2])\n",
    "    result_array.append(findMarkovBest(remodel, inputData, 4)[2])\n",
    "    result_array.append(findMarkovBest(remodel, inputData, 5)[2])\n",
    "    result_array.append(findMarkovBest(remodel, inputData, 6)[2])\n",
    "    result_array.append(theoretical_max_gain_no_overlap(inputData, factor, col_name))\n",
    "    \n",
    "    return result_array\n",
    "\n",
    "inputResult = getLearnResult(testdf)\n",
    "print(inputResult)"
   ]
  },
  {
   "cell_type": "code",
   "execution_count": 10,
   "id": "5fc20fec-1c4b-4a61-a2b2-f99e39246947",
   "metadata": {},
   "outputs": [
    {
     "data": {
      "text/plain": [
       "[0.0,\n",
       " 0.5003399428939519,\n",
       " 0.5004096444166081,\n",
       " 0.5004613894306938,\n",
       " 0.5058618657207297,\n",
       " 0.5089499068331983,\n",
       " 0.5089499068331983,\n",
       " 0.5089499068331983,\n",
       " 1.0]"
      ]
     },
     "execution_count": 10,
     "metadata": {},
     "output_type": "execute_result"
    }
   ],
   "source": [
    "# Get a collection of score based on the learn results we got from all the algorithms we have implemented\n",
    "\n",
    "def getScore(inputResult):\n",
    "    # Returns an array of scores calculated by the total gain from random, HMM(state = 2), HMM(state = 3), HMM(state = 4), HMM(state = 5), HMM(state = 6)..., Max Gain \n",
    "    # where the first of inputResult will always be max loss, second is random and the last will always be max\n",
    "    # score = (predict_result-random_result)/(max_result-random_result)\n",
    "    \n",
    "    score_array = []\n",
    "    score_length = len(inputResult)\n",
    "    max_loss = inputResult[0]\n",
    "    random_gain = inputResult[1]\n",
    "    max_gain = inputResult[-1]\n",
    "    \n",
    "    for i in range(0, len(inputResult)):\n",
    "        score_array.append((inputResult[i]-max_loss)/(max_gain-max_loss))\n",
    "    \n",
    "    return score_array\n",
    "\n",
    "getScore(inputResult)"
   ]
  },
  {
   "cell_type": "code",
   "execution_count": 11,
   "id": "8b417564-b32a-4c7a-8f66-884b8bb97b31",
   "metadata": {},
   "outputs": [],
   "source": [
    "# We make a more realistic prediction by findind the daily, monthly, and yearly gains\n",
    "\n",
    "chunkSize = testdf.size/365\n",
    "\n",
    "def getChunkedResults(testdf, num_of_chunks=365):\n",
    "    # Returns a 2D array of the learn results of each chunk of data\n",
    "    # The purpose of this function is to estimate the amount gain and loss during a daily, weekly, or yearly trading session\n",
    "    \n",
    "    result_array_2d = []\n",
    "    \n",
    "    intervals = np.array_split(testdf, num_of_chunks)\n",
    "    for i in range(len(intervals)):\n",
    "        result_array_2d.append(getLearnResult(intervals[i].reset_index(drop=True)))\n",
    "        \n",
    "    return result_array_2d\n",
    "\n",
    "learn_results_daily = getChunkedResults(testdf)"
   ]
  },
  {
   "cell_type": "code",
   "execution_count": 12,
   "id": "e0363e98-ec36-47a0-bae4-f42c01f3ad95",
   "metadata": {},
   "outputs": [
    {
     "data": {
      "text/plain": [
       "[     Learn Result: Max Loss  Zero Loss       Random  HMM(2)   HMM(3)   HMM(4)  \\\n",
       " 0                 -129485.7          0  -952.753333  7993.4  10847.8  10847.8   \n",
       " 1                 -119410.8          0  -516.976667     0.0   1611.6   1611.6   \n",
       " 2                 -118403.1          0 -1659.670000     0.0      0.0      0.0   \n",
       " 3                 -148177.5          0    37.076667     0.0      0.0      0.0   \n",
       " 4                 -124005.4          0   588.980000     0.0  10786.7  10786.7   \n",
       " ..                      ...        ...          ...     ...      ...      ...   \n",
       " 360               -143263.2          0 -1014.823333     0.0      0.0  13877.1   \n",
       " 361               -131658.1          0   568.320000     0.0      0.0      0.0   \n",
       " 362                -49212.3          0  -808.926667     0.0      0.0      0.0   \n",
       " 363                -64978.0          0  -434.153333     0.0     35.0     35.0   \n",
       " 364                -61600.6          0  -326.096667     0.0     99.6     99.6   \n",
       " \n",
       "       HMM(5)   HMM(6)  Max Gain  \n",
       " 0    10847.8  10847.8  140333.5  \n",
       " 1     1611.6   1611.6  114482.1  \n",
       " 2        0.0      0.0  110697.0  \n",
       " 3        0.0      0.0  120672.0  \n",
       " 4    10786.7  10786.7  115357.5  \n",
       " ..       ...      ...       ...  \n",
       " 360  13877.1  13877.1  139778.5  \n",
       " 361      0.0      0.0  103432.4  \n",
       " 362      0.0      0.0   44121.7  \n",
       " 363     35.0     35.0   64926.1  \n",
       " 364     99.6     99.6   58398.0  \n",
       " \n",
       " [365 rows x 9 columns],\n",
       "      Score: Max Loss  Zero Line    Random    HMM(2)    HMM(3)    HMM(4)  \\\n",
       " 0                0.0   0.479898  0.476367  0.509523  0.520102  0.520102   \n",
       " 1                0.0   0.510536  0.508326  0.510536  0.517427  0.517427   \n",
       " 2                0.0   0.516818  0.509574  0.516818  0.516818  0.516818   \n",
       " 3                0.0   0.551154  0.551292  0.551154  0.551154  0.551154   \n",
       " 4                0.0   0.518064  0.520525  0.518064  0.563129  0.563129   \n",
       " ..               ...        ...       ...       ...       ...       ...   \n",
       " 360              0.0   0.506156  0.502570  0.506156  0.506156  0.555184   \n",
       " 361              0.0   0.560032  0.562449  0.560032  0.560032  0.560032   \n",
       " 362              0.0   0.527271  0.518604  0.527271  0.527271  0.527271   \n",
       " 363              0.0   0.500200  0.496858  0.500200  0.500469  0.500469   \n",
       " 364              0.0   0.513344  0.510627  0.513344  0.514174  0.514174   \n",
       " \n",
       "        HMM(5)    HMM(6)  Max Gain  \n",
       " 0    0.520102  0.520102       1.0  \n",
       " 1    0.517427  0.517427       1.0  \n",
       " 2    0.516818  0.516818       1.0  \n",
       " 3    0.551154  0.551154       1.0  \n",
       " 4    0.563129  0.563129       1.0  \n",
       " ..        ...       ...       ...  \n",
       " 360  0.555184  0.555184       1.0  \n",
       " 361  0.560032  0.560032       1.0  \n",
       " 362  0.527271  0.527271       1.0  \n",
       " 363  0.500469  0.500469       1.0  \n",
       " 364  0.514174  0.514174       1.0  \n",
       " \n",
       " [365 rows x 9 columns]]"
      ]
     },
     "execution_count": 12,
     "metadata": {},
     "output_type": "execute_result"
    }
   ],
   "source": [
    "# We will use the learn results to get a 2D array of scores based on the learn results\n",
    "\n",
    "def getChunkedResults(learn_results_in_chuncks):\n",
    "    # Returns a 2D array of the learn results of each chunk of data\n",
    "    # The purpose of this function is to estimate the amount gain and loss during a daily, weekly, or yearly trading session\n",
    "    \n",
    "    score_array_2d = [] \n",
    "    \n",
    "    for result in learn_results_in_chuncks:\n",
    "        score_array_2d.append(getScore(result))\n",
    "    \n",
    "    return score_array_2d\n",
    "\n",
    "scores_daily_2d = getChunkedResults(learn_results_daily)\n",
    "\n",
    "\n",
    "def outputFinalResultScoreDfsAndCsv(learn_result_2d, scores_2d):\n",
    "    learn_result_df = pd.DataFrame(learn_result_2d, columns=[\"Learn Result: Max Loss\",\"Zero Loss\", \"Random\", \"HMM(2)\", \"HMM(3)\", \"HMM(4)\", \"HMM(5)\", \"HMM(6)\", \"Max Gain\"])\n",
    "    scores_daily_df = pd.DataFrame(scores_2d, columns=[\"Score: Max Loss\", \"Zero Line\", \"Random\", \"HMM(2)\", \"HMM(3)\", \"HMM(4)\", \"HMM(5)\", \"HMM(6)\", \"Max Gain\"])\n",
    "    \n",
    "    learn_result_df.to_csv('dailyLearnResults.csv')\n",
    "    scores_daily_df.to_csv('dailyScores.csv')\n",
    "    return [learn_result_df, scores_daily_df]\n",
    "\n",
    "outputFinalResultScoreDfsAndCsv(learn_results_daily, scores_daily_2d)"
   ]
  },
  {
   "cell_type": "code",
   "execution_count": 20,
   "id": "68c7900d-a8ff-4108-9849-c78e59b3efdc",
   "metadata": {},
   "outputs": [
    {
     "name": "stdout",
     "output_type": "stream",
     "text": [
      "Percentage of no loss (1 = 100%) = 1.0\n",
      "Percentage of better than random (1 = 100%) = 0.8657534246575342\n",
      "Percentage of garantee better (1 = 100%) = 0.8657534246575342\n"
     ]
    }
   ],
   "source": [
    "# We find the answer to : Does our algorithm garantees a gain and is it always better than the random algorithm?\n",
    "\n",
    "def getYearlySuccessRate(dailyResultData_2d_array):\n",
    "    # counters\n",
    "    aboveZero = 0\n",
    "    aboveRandom = 0\n",
    "    garanteeBetter = 0\n",
    "    \n",
    "    for row in dailyResultData_2d_array: \n",
    "        if row[-2] >= row[1]:\n",
    "            aboveZero += 1\n",
    "        if row[-2] >= row[2]:\n",
    "            aboveRandom += 1\n",
    "        if row[-2] >= row[1] and row[-2] >= row[2]:\n",
    "            garanteeBetter += 1\n",
    "\n",
    "    return [aboveZero / len(dailyResultData_2d_array), aboveRandom / len(dailyResultData_2d_array), garanteeBetter / len(dailyResultData_2d_array)]\n",
    "\n",
    "percentage_gain = getYearlySuccessRate(learn_results_daily)\n",
    "\n",
    "print(f'Percentage of no loss (1 = 100%) = {percentage_gain[0]}')\n",
    "print(f'Percentage of better than random (1 = 100%) = {percentage_gain[1]}')\n",
    "print(f'Percentage of garantee better (1 = 100%) = {percentage_gain[2]}')"
   ]
  },
  {
   "cell_type": "code",
   "execution_count": null,
   "id": "b803a05c-0ff1-4839-816c-da3bc79ca19c",
   "metadata": {},
   "outputs": [],
   "source": []
  }
 ],
 "metadata": {
  "kernelspec": {
   "display_name": "Python 3 (ipykernel)",
   "language": "python",
   "name": "python3"
  },
  "language_info": {
   "codemirror_mode": {
    "name": "ipython",
    "version": 3
   },
   "file_extension": ".py",
   "mimetype": "text/x-python",
   "name": "python",
   "nbconvert_exporter": "python",
   "pygments_lexer": "ipython3",
   "version": "3.8.5"
  }
 },
 "nbformat": 4,
 "nbformat_minor": 5
}
